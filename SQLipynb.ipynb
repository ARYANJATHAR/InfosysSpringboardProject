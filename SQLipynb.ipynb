{
  "nbformat": 4,
  "nbformat_minor": 0,
  "metadata": {
    "colab": {
      "provenance": [],
      "authorship_tag": "ABX9TyNTdbanhgf1/KveGFYS82+4"
    },
    "kernelspec": {
      "name": "python3",
      "display_name": "Python 3"
    },
    "language_info": {
      "name": "python"
    }
  },
  "cells": [
    {
      "cell_type": "markdown",
      "source": [
        "## SQL  - STRUCTURED QUERY LANGUAGE"
      ],
      "metadata": {
        "id": "RCq7v66dfWl9"
      }
    },
    {
      "cell_type": "code",
      "source": [
        "#1.What is SQL, and why is it important in data analytics?\n",
        "#Ans1.SQL is a standard language for managing and querying databases, essential in data analytics for extracting, transforming, and analyzing data efficiently.\n"
      ],
      "metadata": {
        "id": "W0yMkiZWjRi9"
      },
      "execution_count": null,
      "outputs": []
    },
    {
      "cell_type": "code",
      "source": [
        "#2.Explain the difference between INNER JOIN, LEFT JOIN, RIGHT JOIN, and FULL OUTER JOIN.\n",
        "#ANS2. Joins in SQL combine rows from two or more tables based on a related column.\n",
        "# -INNER JOIN: Matches rows with common keys in both tables.\n",
        "#-LEFT JOIN: Returns all rows from the left table and matching rows from the right.\n",
        "#-RIGHT JOIN: Returns all rows from the right table and matching rows from the left.\n",
        "#-FULL OUTER JOIN: Returns all rows from both tables with NULLs for unmatched rows."
      ],
      "metadata": {
        "id": "1_88bB_bjuvV"
      },
      "execution_count": null,
      "outputs": []
    },
    {
      "cell_type": "code",
      "source": [
        "#3.What is the difference between WHERE and HAVING clauses?\n",
        "#Ans3. Aggregation in SQL involves performing calculations on multiple rows to return a single summarized value, like COUNT, SUM, AVG, MIN, or MAX.\n",
        "#WHERE filters rows before aggregation, HAVING filters rows after aggregation."
      ],
      "metadata": {
        "id": "EZZerSdvjurT"
      },
      "execution_count": null,
      "outputs": []
    },
    {
      "cell_type": "code",
      "source": [
        "#4.How do you use GROUP BY and HAVING in a query?\n",
        "#Ans4.GROUP BY groups rows by column values; HAVING filters groups based on aggregate conditions."
      ],
      "metadata": {
        "id": "GdhCONQmjuo-"
      },
      "execution_count": null,
      "outputs": []
    },
    {
      "cell_type": "code",
      "source": [
        "#5.Write a query to find duplicate records in a table.\n",
        "#ANS5. \"SELECT column, COUNT(*) FROM table GROUP BY column HAVING COUNT(*) > 1;\""
      ],
      "metadata": {
        "id": "5v5Xvxj1jumk"
      },
      "execution_count": null,
      "outputs": []
    },
    {
      "cell_type": "code",
      "source": [
        "#6.How do you retrieve unique values from a table using SQL?\n",
        "#Ans6. \"SELECT DISTINCT column FROM table;\""
      ],
      "metadata": {
        "id": "0PuUXcYSjuj-"
      },
      "execution_count": null,
      "outputs": []
    },
    {
      "cell_type": "code",
      "source": [
        "#7.Explain the use of aggregate functions like COUNT(), SUM(), AVG(), MIN(), and MAX().\n",
        "#Ans7. - COUNT(): Counts rows.\n",
        "#SUM(): Calculates total.\n",
        "#AVG(): Calculates average.\n",
        "#MIN()/MAX(): Finds minimum/maximum values."
      ],
      "metadata": {
        "id": "0tX4cHTHjufG"
      },
      "execution_count": null,
      "outputs": []
    },
    {
      "cell_type": "code",
      "source": [
        "#8.What is the purpose of a DISTINCT keyword in SQL?\n",
        "#Ans8. To  Eliminates duplicate rows from results."
      ],
      "metadata": {
        "id": "pULL8VmLjuYP"
      },
      "execution_count": null,
      "outputs": []
    },
    {
      "cell_type": "code",
      "source": [],
      "metadata": {
        "id": "GOuPkhQJjuVa"
      },
      "execution_count": null,
      "outputs": []
    },
    {
      "cell_type": "code",
      "source": [
        "#1.Write a query to find the second-highest salary from an employee table.\n",
        "#Ans1. \"SELECT MAX(salary) FROM employees WHERE salary < (SELECT MAX(salary) FROM employees);\""
      ],
      "metadata": {
        "id": "2XHG-U_MjuMm"
      },
      "execution_count": null,
      "outputs": []
    },
    {
      "cell_type": "code",
      "source": [
        "#2.What are subqueries and how do you use them?\n",
        "#Ans2. Subqueries are nested queries within a main query, used to perform operations like filtering, comparisons, or returning intermediate results.\n",
        "#Subqueries are used in SQL by placing them inside clauses like WHERE, FROM, or SELECT, to filter, compare, or generate intermediate results for the main query."
      ],
      "metadata": {
        "id": "ZARJ8MjnjuGP"
      },
      "execution_count": null,
      "outputs": []
    },
    {
      "cell_type": "code",
      "source": [
        "#3What is a Common Table Expression (CTE)? Give an example of when to use it.\n",
        "#Ans3.A Common Table Expression (CTE) is a temporary, named result set defined within a WITH clause, used to simplify complex queries and improve readability.\n",
        "# WITH DepartmentSales AS (\n",
        "#   SELECT department_id, SUM(sales) AS total_sales\n",
        "#    FROM sales\n",
        "#    GROUP BY department_id\n",
        "#)\n",
        "#SELECT department_id, total_sales\n",
        "#FROM DepartmentSales\n",
        "#WHERE total_sales > 10000;\n"
      ],
      "metadata": {
        "id": "HqATYx27l65I"
      },
      "execution_count": null,
      "outputs": []
    },
    {
      "cell_type": "code",
      "source": [
        "#4.Explain window functions like ROW_NUMBER(), RANK(), and DENSE_RANK().\n",
        "#Ans4. Window functions operate over a defined set of rows (window) and perform calculations like ranking or numbering rows without collapsing them.\n",
        "#-ROW_NUMBER(): Unique row numbering.\n",
        "#-RANK(): Ranks with gaps for ties.\n",
        "#-DENSE_RANK(): Ranks without gaps for ties."
      ],
      "metadata": {
        "id": "RQ6AW-Ptl62x"
      },
      "execution_count": null,
      "outputs": []
    },
    {
      "cell_type": "code",
      "source": [
        "#5.How do you combine results of two queries using UNION and UNION ALL?\n",
        "#Ans5. UNION -\n",
        "#SELECT name, department FROM employees1\n",
        "#UNION\n",
        "#SELECT name, department FROM employees2;\n",
        "\n",
        "#UNION ALL -\n",
        "#SELECT name, department FROM employees1\n",
        "#UNION ALL\n",
        "#SELECT name, department FROM employees2;\n"
      ],
      "metadata": {
        "id": "BcNsxp1ll60S"
      },
      "execution_count": null,
      "outputs": []
    },
    {
      "cell_type": "code",
      "source": [
        "#6.What are indexes in SQL, and how do they improve query performance?\n",
        "#Ans6.Indexes in SQL are data structures that improve the speed of data retrieval operations by providing quick access to rows in a table, similar to an index in a book.\n",
        "#They enhance query performance by reducing the need to scan entire tables."
      ],
      "metadata": {
        "id": "jQNFUWxbl6xo"
      },
      "execution_count": null,
      "outputs": []
    },
    {
      "cell_type": "code",
      "source": [
        "#7.Write a query to calculate the total sales for each month using GROUP BY.\n",
        "#Ans7. \"SELECT MONTH(order_date), SUM(sales) FROM orders GROUP BY MONTH(order_date);\""
      ],
      "metadata": {
        "id": "B6klLl2Bl6u-"
      },
      "execution_count": null,
      "outputs": []
    },
    {
      "cell_type": "code",
      "source": [],
      "metadata": {
        "id": "67hG6g5Rl6so"
      },
      "execution_count": null,
      "outputs": []
    },
    {
      "cell_type": "code",
      "source": [
        "#1. How do you optimize a slow-running SQL query?\n",
        "#Ans1.To optimize a slow SQL query, use proper indexes, avoid unnecessary columns, minimize subqueries, and analyze the query execution plan to identify and eliminate bottlenecks."
      ],
      "metadata": {
        "id": "M67BYMz0l6qV"
      },
      "execution_count": null,
      "outputs": []
    },
    {
      "cell_type": "code",
      "source": [
        "#2. What are views in SQL, and when would you use them?\n",
        "#Ans2. Views in SQL are virtual tables created by storing a query that can be reused as if it were a regular table, helping to simplify complex queries and enhance security by restricting access to specific data."
      ],
      "metadata": {
        "id": "3q1DsKdXl6n8"
      },
      "execution_count": null,
      "outputs": []
    },
    {
      "cell_type": "code",
      "source": [
        "#3. What is the difference between a stored procedure and a function in SQL?\n",
        "#Ans3.A stored procedure is a set of SQL statements that perform an operation (e.g., modifying data or controlling logic) and can return multiple results,\n",
        "#while a function is a set of SQL statements that perform a calculation or operation and must return a single value."
      ],
      "metadata": {
        "id": "Y_jlG5JYl6ln"
      },
      "execution_count": null,
      "outputs": []
    },
    {
      "cell_type": "code",
      "source": [
        "#4. Explain the difference between TRUNCATE, DELETE, and DROP commands.\n",
        "#Ans4.\n",
        "#TRUNCATE removes all rows without logging;\n",
        "#DELETE removes specific rows with logging;\n",
        "#DROP deletes the entire table structure."
      ],
      "metadata": {
        "id": "wSYvYmCbl6jG"
      },
      "execution_count": null,
      "outputs": []
    },
    {
      "cell_type": "code",
      "source": [
        "#5. What are windowing functions, and how are they used in analytics?\n",
        "#Ans5.Window functions perform calculations across a set of table rows related to the current row, while preserving the individual rows, and are often used in analytics for tasks like ranking, cumulative totals, and moving averages without collapsing the result set"
      ],
      "metadata": {
        "id": "zjPtbdMbl6gn"
      },
      "execution_count": null,
      "outputs": []
    },
    {
      "cell_type": "code",
      "source": [
        "#6.How do you use PARTITION BY and ORDER BY in window functions?\n",
        "#Ans6.In window functions, PARTITION BY divides the result set into partitions (groups of rows), and ORDER BY defines the order of rows within each partition."
      ],
      "metadata": {
        "id": "u5-RkCtCl6eX"
      },
      "execution_count": null,
      "outputs": []
    },
    {
      "cell_type": "code",
      "source": [
        "#7. How do you handle NULL values in SQL, and what functions help with that (e.g., COALESCE, ISNULL)?\n",
        "#Ans7.Handling NULL values in SQL involves using specific functions to replace, check, or handle NULLs to ensure proper data processing and avoid errors.\n",
        "# COALESCE() - Returns the first non-NULL value in a list of expressions.\n",
        "# \"SELECT COALESCE(salary, 0) FROM employees;\"\n",
        "# ISNULL(): Checks if an expression is NULL, and returns a specified value if true.\n",
        "# \"SELECT ISNULL(salary, 0) FROM employees;\"\n",
        "# NULLIF(): Returns NULL if two expressions are equal, otherwise returns the first expression.\n",
        "# \"SELECT NULLIF(salary, 0) FROM employees;\"\n",
        "# IS NULL / IS NOT NULL: Used to filter or check for NULL values.\n",
        "# \"SELECT name FROM employees WHERE salary IS NULL;\""
      ],
      "metadata": {
        "id": "1NdcK07sl6ba"
      },
      "execution_count": null,
      "outputs": []
    },
    {
      "cell_type": "markdown",
      "source": [
        "# BASIC SQL CODES\n"
      ],
      "metadata": {
        "id": "FGPhSfiwjsvU"
      }
    },
    {
      "cell_type": "code",
      "source": [
        "\n",
        "import sqlite3\n",
        "\n",
        "# Create a database in memory\n",
        "conn = sqlite3.connect(':memory:')\n",
        "cursor = conn.cursor()\n",
        "\n",
        "# Create a sample table\n",
        "cursor.execute('''\n",
        "CREATE TABLE employees (\n",
        "    id INTEGER PRIMARY KEY,\n",
        "    name TEXT,\n",
        "    salary REAL,\n",
        "    department TEXT\n",
        ")\n",
        "''')\n"
      ],
      "metadata": {
        "colab": {
          "base_uri": "https://localhost:8080/"
        },
        "id": "rA-i21BqHc3V",
        "outputId": "5fe905b6-061a-41f4-c3a9-65e6bc74fac7"
      },
      "execution_count": 1,
      "outputs": [
        {
          "output_type": "execute_result",
          "data": {
            "text/plain": [
              "<sqlite3.Cursor at 0x7a1c4ac6e9c0>"
            ]
          },
          "metadata": {},
          "execution_count": 1
        }
      ]
    },
    {
      "cell_type": "code",
      "source": [
        "# Insert sample data\n",
        "cursor.executemany('''\n",
        "INSERT INTO employees (name, salary, department) VALUES (?, ?, ?)\n",
        "''', [\n",
        "    ('Aryan', 50000, 'HR'),\n",
        "    ('Karan', 60000, 'Engineering'),\n",
        "    ('Ketan', 70000, 'Engineering'),\n",
        "    ('Amit', 55000, 'Marketing'),\n",
        "    ('Mahesh', 65000, 'Marketing')\n",
        "])\n",
        "\n",
        "# Commit the changes\n",
        "conn.commit()\n"
      ],
      "metadata": {
        "id": "Go-JpwS3HdvH"
      },
      "execution_count": 2,
      "outputs": []
    },
    {
      "cell_type": "code",
      "source": [
        "cursor.execute('SELECT * FROM employees')\n",
        "rows = cursor.fetchall()\n",
        "for row in rows:\n",
        "    print(row)\n"
      ],
      "metadata": {
        "colab": {
          "base_uri": "https://localhost:8080/"
        },
        "id": "-kbxQ9E4HjId",
        "outputId": "ea7fb65d-f500-4c42-bba0-854ba997b0c5"
      },
      "execution_count": 3,
      "outputs": [
        {
          "output_type": "stream",
          "name": "stdout",
          "text": [
            "(1, 'Aryan', 50000.0, 'HR')\n",
            "(2, 'Karan', 60000.0, 'Engineering')\n",
            "(3, 'Ketan', 70000.0, 'Engineering')\n",
            "(4, 'Amit', 55000.0, 'Marketing')\n",
            "(5, 'Mahesh', 65000.0, 'Marketing')\n"
          ]
        }
      ]
    },
    {
      "cell_type": "code",
      "source": [
        "cursor.execute('SELECT * FROM employees WHERE department = \"Engineering\"')\n",
        "rows = cursor.fetchall()\n",
        "for row in rows:\n",
        "    print(row)\n"
      ],
      "metadata": {
        "colab": {
          "base_uri": "https://localhost:8080/"
        },
        "id": "hJ3O4v2jHkcu",
        "outputId": "59e07004-572c-4108-995f-36b37f3cc3da"
      },
      "execution_count": 4,
      "outputs": [
        {
          "output_type": "stream",
          "name": "stdout",
          "text": [
            "(2, 'Karan', 60000.0, 'Engineering')\n",
            "(3, 'Ketan', 70000.0, 'Engineering')\n"
          ]
        }
      ]
    },
    {
      "cell_type": "code",
      "source": [
        "cursor.execute('SELECT department, AVG(salary) FROM employees GROUP BY department')\n",
        "rows = cursor.fetchall()\n",
        "for row in rows:\n",
        "    print(row)\n"
      ],
      "metadata": {
        "colab": {
          "base_uri": "https://localhost:8080/"
        },
        "id": "ALT1sdkOHmVq",
        "outputId": "29018b68-c309-4b3f-8cbc-cd305c97e61b"
      },
      "execution_count": 5,
      "outputs": [
        {
          "output_type": "stream",
          "name": "stdout",
          "text": [
            "('Engineering', 65000.0)\n",
            "('HR', 50000.0)\n",
            "('Marketing', 60000.0)\n"
          ]
        }
      ]
    },
    {
      "cell_type": "code",
      "source": [
        "cursor.execute('INSERT INTO employees (name, salary, department) VALUES (?, ?, ?)', ('Sumit',10000, 'Intern'))\n",
        "conn.commit()\n"
      ],
      "metadata": {
        "id": "oURkl_LeHoO6"
      },
      "execution_count": 6,
      "outputs": []
    },
    {
      "cell_type": "code",
      "source": [
        "cursor.execute('SELECT * FROM employees')\n",
        "rows = cursor.fetchall()\n",
        "for row in rows:\n",
        "    print(row)\n"
      ],
      "metadata": {
        "colab": {
          "base_uri": "https://localhost:8080/"
        },
        "id": "qkNIJG2sNRSf",
        "outputId": "85f17b00-a0b0-4196-c1ea-15cc6af87d43"
      },
      "execution_count": 7,
      "outputs": [
        {
          "output_type": "stream",
          "name": "stdout",
          "text": [
            "(1, 'Aryan', 50000.0, 'HR')\n",
            "(2, 'Karan', 60000.0, 'Engineering')\n",
            "(3, 'Ketan', 70000.0, 'Engineering')\n",
            "(4, 'Amit', 55000.0, 'Marketing')\n",
            "(5, 'Mahesh', 65000.0, 'Marketing')\n",
            "(6, 'Sumit', 10000.0, 'Intern')\n"
          ]
        }
      ]
    },
    {
      "cell_type": "code",
      "source": [
        "cursor.execute('UPDATE employees SET salary = ? WHERE name = ?', (20000, 'Sumit'))\n",
        "conn.commit()\n"
      ],
      "metadata": {
        "id": "NihaOaYeHpTy"
      },
      "execution_count": 8,
      "outputs": []
    },
    {
      "cell_type": "code",
      "source": [
        "cursor.execute('SELECT * FROM employees')\n",
        "rows = cursor.fetchall()\n",
        "for row in rows:\n",
        "    print(row)\n"
      ],
      "metadata": {
        "colab": {
          "base_uri": "https://localhost:8080/"
        },
        "id": "s5ysMg1HHqhn",
        "outputId": "48d863a1-3fa2-41bb-a14e-8d876c96c81b"
      },
      "execution_count": 9,
      "outputs": [
        {
          "output_type": "stream",
          "name": "stdout",
          "text": [
            "(1, 'Aryan', 50000.0, 'HR')\n",
            "(2, 'Karan', 60000.0, 'Engineering')\n",
            "(3, 'Ketan', 70000.0, 'Engineering')\n",
            "(4, 'Amit', 55000.0, 'Marketing')\n",
            "(5, 'Mahesh', 65000.0, 'Marketing')\n",
            "(6, 'Sumit', 20000.0, 'Intern')\n"
          ]
        }
      ]
    },
    {
      "cell_type": "code",
      "source": [
        "cursor.execute('DELETE FROM employees WHERE name = ?', ('Amit',))\n",
        "conn.commit()\n"
      ],
      "metadata": {
        "id": "tLmu5MAEHtSc"
      },
      "execution_count": 10,
      "outputs": []
    },
    {
      "cell_type": "code",
      "source": [
        "cursor.execute('SELECT * FROM employees')\n",
        "rows = cursor.fetchall()\n",
        "for row in rows:\n",
        "    print(row)\n"
      ],
      "metadata": {
        "colab": {
          "base_uri": "https://localhost:8080/"
        },
        "id": "2PpqvF3NPHmi",
        "outputId": "6ccf7fed-6e7f-4b6c-9890-723d470fca48"
      },
      "execution_count": 11,
      "outputs": [
        {
          "output_type": "stream",
          "name": "stdout",
          "text": [
            "(1, 'Aryan', 50000.0, 'HR')\n",
            "(2, 'Karan', 60000.0, 'Engineering')\n",
            "(3, 'Ketan', 70000.0, 'Engineering')\n",
            "(5, 'Mahesh', 65000.0, 'Marketing')\n",
            "(6, 'Sumit', 20000.0, 'Intern')\n"
          ]
        }
      ]
    },
    {
      "cell_type": "code",
      "source": [
        "conn.close()\n"
      ],
      "metadata": {
        "id": "9VWrBLxRHwHh"
      },
      "execution_count": 12,
      "outputs": []
    },
    {
      "cell_type": "code",
      "source": [],
      "metadata": {
        "id": "acYhT-9wHxzp"
      },
      "execution_count": null,
      "outputs": []
    }
  ]
}