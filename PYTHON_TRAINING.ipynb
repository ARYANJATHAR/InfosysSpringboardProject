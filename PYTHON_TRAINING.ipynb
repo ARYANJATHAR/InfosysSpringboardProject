{
  "nbformat": 4,
  "nbformat_minor": 0,
  "metadata": {
    "colab": {
      "provenance": [],
      "authorship_tag": "ABX9TyOJpJqke423QR3gvTrX+x8E",
      "include_colab_link": true
    },
    "kernelspec": {
      "name": "python3",
      "display_name": "Python 3"
    },
    "language_info": {
      "name": "python"
    }
  },
  "cells": [
    {
      "cell_type": "markdown",
      "metadata": {
        "id": "view-in-github",
        "colab_type": "text"
      },
      "source": [
        "<a href=\"https://colab.research.google.com/github/ARYANJATHAR/InfosysSpringboardProject/blob/main/PYTHON_TRAINING.ipynb\" target=\"_parent\"><img src=\"https://colab.research.google.com/assets/colab-badge.svg\" alt=\"Open In Colab\"/></a>"
      ]
    },
    {
      "cell_type": "markdown",
      "source": [
        "# PYTHON OOPS CONCEPTS"
      ],
      "metadata": {
        "id": "dU3IQRBUMNLG"
      }
    },
    {
      "cell_type": "code",
      "execution_count": 1,
      "metadata": {
        "id": "o7FL9V6NLacr"
      },
      "outputs": [],
      "source": [
        "#OOP is a programming paradigm that uses objects to represent real-world entities, organizing code through concepts like encapsulation, inheritance, polymorphism, and abstraction."
      ]
    },
    {
      "cell_type": "markdown",
      "source": [
        "1.ENCAPSULATION\n"
      ],
      "metadata": {
        "id": "BLO72Ob3STm5"
      }
    },
    {
      "cell_type": "code",
      "source": [
        "#Encapsulation hides internal details and protects data by bundling attributes and methods together, controlling access.\""
      ],
      "metadata": {
        "id": "rQu3xi8DSYu7"
      },
      "execution_count": null,
      "outputs": []
    },
    {
      "cell_type": "code",
      "source": [
        "class BankAccount:\n",
        "    def __init__(self, account_holder, balance):\n",
        "        self.account_holder = account_holder  # Public attribute\n",
        "        self.__balance = balance  # Private attribute\n",
        "\n",
        "    def deposit(self, amount):\n",
        "        self.__balance += amount  # Accessing private attribute through a method\n",
        "\n",
        "    def get_balance(self):\n",
        "        return self.__balance  # Getter method for private attribute\n"
      ],
      "metadata": {
        "id": "WvEOOHhJSgRH"
      },
      "execution_count": 5,
      "outputs": []
    },
    {
      "cell_type": "code",
      "source": [
        "#Explanation of the above code: The (_init_) method  is the constructor of the class.\n",
        "#The constructor takes two parameters:\n",
        "#account_holder: The name of the person holding the bank account.\n",
        "#balance: The initial balance of the bank account.\n",
        "#self.account_holder: This is a public attribute\n",
        "#self.__balance: This is a private attribute\n"
      ],
      "metadata": {
        "id": "j_dh9ZdlUvF4"
      },
      "execution_count": null,
      "outputs": []
    },
    {
      "cell_type": "code",
      "source": [
        "account = BankAccount(\"John Doe\", 1000)\n",
        "account.deposit(500)\n",
        "print(account.get_balance())"
      ],
      "metadata": {
        "colab": {
          "base_uri": "https://localhost:8080/"
        },
        "id": "mJ_DOfWQTirf",
        "outputId": "aa4d8c45-b9dc-4ca1-af52-68af7247fee4"
      },
      "execution_count": 6,
      "outputs": [
        {
          "output_type": "stream",
          "name": "stdout",
          "text": [
            "1500\n"
          ]
        }
      ]
    }
  ]
}